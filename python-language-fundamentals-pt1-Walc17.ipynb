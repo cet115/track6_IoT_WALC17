{
 "cells": [
  {
   "cell_type": "markdown",
   "metadata": {
    "collapsed": true
   },
   "source": [
    "#### PYTHON FUNDAMENTOS| DESDE LO BASICO A LO AVANZADO► CAPITULO 2 ► \n",
    "---"
   ]
  },
  {
   "cell_type": "markdown",
   "metadata": {
    "collapsed": true
   },
   "source": [
    "### I. Una ligera referencia del lenguaje de programación\n",
    "\n",
    "Los muchos lenguajes de programacion existentes se pueden clasificar en familias según su modelo de cálculo. La división de alto nivel distingue entre:\n",
    "\n",
    "* lenguajes **declarativos** , en los cuales el foco está en lo que la computadora debe hacer;\n",
    "* lenguajes **imperativos*,  en los cuales el foco está en cómo la computadora debería hacerlo.\n",
    "\n",
    "Por ejemplo en `SQL` (Structured Query Language) es un leguaje de consulta declarativo, se puede especificar el **que** se quiere hacer de la siguiente manera:\n",
    "\n",
    "```\n",
    "SELECT name, age, sex\n",
    "FROM employee_table\n",
    "WHERE location=\"Trieste\"\n",
    "```\n",
    "\n",
    "En el ejemplo anterior, simplemente se especifica que se quieren las columnas`name, age, sex` de la tabla `employee_table` con el valor de la columna `location` igual a `Trieste`. Los lenguajes **Declarativos** son en un sentido de älto nivel¨; estan mas en sintonia con el lado del programador.\n",
    "\n",
    "En los lenguajes **Imperativos** predominan, sin embargo, mas las razones del desempeño del como hacer. De este tipo son los lenguajes como `C` y `Python` entre otros.\n",
    "\n",
    "Para mayor referencia: \"Programming Language Pragmatics\" from Michael L. Scott https://www.cs.rochester.edu/~scott/pragmatics/."
   ]
  },
  {
   "cell_type": "markdown",
   "metadata": {},
   "source": [
    "## II. Elementos basicos de Python"
   ]
  },
  {
   "cell_type": "markdown",
   "metadata": {},
   "source": [
    "In a very informal way, a Python program *\"does things with stuffs\"*. The \"stuffs\" are **objects** and you specify what you want to do with them using **statements**. Python provides many built-in types of object by default but you are free to create custom type of object using **classes**. "
   ]
  },
  {
   "cell_type": "markdown",
   "metadata": {},
   "source": [
    "### a. Objects\n",
    "\n",
    "Los Objetos son esencialmente piezas de memoria, con valores y operaciones asociadas.\n",
    "\n",
    "Por ejemplo, para crear una cadena de caracteres \"internet of things\", simplemente escribe:"
   ]
  },
  {
   "cell_type": "code",
   "execution_count": 8,
   "metadata": {},
   "outputs": [
    {
     "data": {
      "text/plain": [
       "'internet of things'"
      ]
     },
     "execution_count": 8,
     "metadata": {},
     "output_type": "execute_result"
    }
   ],
   "source": [
    "# expresion para crear un cadena de caracteres\n",
    "'internet of things'"
   ]
  },
  {
   "cell_type": "code",
   "execution_count": 9,
   "metadata": {},
   "outputs": [
    {
     "data": {
      "text/plain": [
       "'0x10f82be88'"
      ]
     },
     "execution_count": 9,
     "metadata": {},
     "output_type": "execute_result"
    }
   ],
   "source": [
    "# Este objeto es almacenado en memoria, con la siguiente direccion\n",
    "hex(id('internet of things'))"
   ]
  },
  {
   "cell_type": "markdown",
   "metadata": {},
   "source": [
    "Cada objeto tiene un **tipo** que le define el tipo de objeto y las cosas que el programa puede hacer con objetos de ese tipo. el objeto \"internet of things\"` es de tipo `str`."
   ]
  },
  {
   "cell_type": "code",
   "execution_count": 10,
   "metadata": {
    "scrolled": true
   },
   "outputs": [
    {
     "data": {
      "text/plain": [
       "str"
      ]
     },
     "execution_count": 10,
     "metadata": {},
     "output_type": "execute_result"
    }
   ],
   "source": [
    "type('internet of things')"
   ]
  },
  {
   "cell_type": "markdown",
   "metadata": {},
   "source": [
    "El tipo de objeto de define que tipo de operaciones el objeto soporta, o, en otras palabras, que operaciones se pueden realizar sobre el valor/dato de ese objeto. Por ejemplo, el objetos de tipo `str` soportaran oepraciones como `uppercase`."
   ]
  },
  {
   "cell_type": "code",
   "execution_count": 17,
   "metadata": {},
   "outputs": [
    {
     "data": {
      "text/plain": [
       "'INTERNET OF THINGS'"
      ]
     },
     "execution_count": 17,
     "metadata": {},
     "output_type": "execute_result"
    }
   ],
   "source": [
    "'internet of things'.upper()"
   ]
  },
  {
   "cell_type": "markdown",
   "metadata": {},
   "source": [
    "Cuando se dice que todo en Python es un objeto, incluye el caso de las funciones `functions`. Una objeto funcion `Function` sera de tipo `function`. Las funciones son **ciudadanos de primera clase**."
   ]
  },
  {
   "cell_type": "code",
   "execution_count": 49,
   "metadata": {},
   "outputs": [
    {
     "data": {
      "text/plain": [
       "function"
      ]
     },
     "execution_count": 49,
     "metadata": {},
     "output_type": "execute_result"
    }
   ],
   "source": [
    "# declaracion de una funcion\n",
    "def square(x):\n",
    "    return x**2\n",
    "\n",
    "type(square)"
   ]
  },
  {
   "cell_type": "code",
   "execution_count": 22,
   "metadata": {},
   "outputs": [
    {
     "data": {
      "text/plain": [
       "4"
      ]
     },
     "execution_count": 22,
     "metadata": {},
     "output_type": "execute_result"
    }
   ],
   "source": [
    "# para invocar o llamar la funcion, y obtener la potencia del numero 2\n",
    "square(2)"
   ]
  },
  {
   "cell_type": "markdown",
   "metadata": {},
   "source": [
    "Python provee muchos tipos de datos https://docs.python.org/3/library/stdtypes.html como los que se ven a continuacion:"
   ]
  },
  {
   "cell_type": "code",
   "execution_count": 24,
   "metadata": {},
   "outputs": [
    {
     "data": {
      "text/plain": [
       "False"
      ]
     },
     "execution_count": 24,
     "metadata": {},
     "output_type": "execute_result"
    }
   ],
   "source": [
    "# Booleanos: Verdadero, Falso\n",
    "False"
   ]
  },
  {
   "cell_type": "code",
   "execution_count": 25,
   "metadata": {},
   "outputs": [
    {
     "data": {
      "text/plain": [
       "4.534876"
      ]
     },
     "execution_count": 25,
     "metadata": {},
     "output_type": "execute_result"
    }
   ],
   "source": [
    "# Tipos Numericos: int, float, complex\n",
    "4.534876"
   ]
  },
  {
   "cell_type": "code",
   "execution_count": 26,
   "metadata": {},
   "outputs": [
    {
     "data": {
      "text/plain": [
       "[1, 4, 6, 'spam']"
      ]
     },
     "execution_count": 26,
     "metadata": {},
     "output_type": "execute_result"
    }
   ],
   "source": [
    "# Tipos de secuencias de datos: str, list, tuple, range\n",
    "[1, 4, 6, 'spam'] # lista de objetos"
   ]
  },
  {
   "cell_type": "code",
   "execution_count": 27,
   "metadata": {},
   "outputs": [
    {
     "data": {
      "text/plain": [
       "{'name': 'Abdus', 'surname': 'Salam', 'year': 1979}"
      ]
     },
     "execution_count": 27,
     "metadata": {},
     "output_type": "execute_result"
    }
   ],
   "source": [
    "# Tipos mapa de datos / Mapping : dict\n",
    "{'name': 'Abdus', 'surname': 'Salam', 'year': 1979}"
   ]
  },
  {
   "cell_type": "markdown",
   "metadata": {},
   "source": [
    "y muchos mas tipos...que veremos a detalle mas aadelante. "
   ]
  },
  {
   "cell_type": "markdown",
   "metadata": {},
   "source": [
    "#### Expresiones\n",
    "Una **expresion** es una frase o linea de codigo que produce un valor. \n",
    "La linea de codigo mas simple contiene **literales** e **identificadores** (por ejemplo el nombre de una variable).\n",
    "Usando literales, identificadores, y operadores (arithmeticos, booleanos, comparacion, ...)...se pueden construir lineas o expresiones que generan nuevos objetos a partir de otras ya existentes."
   ]
  },
  {
   "cell_type": "code",
   "execution_count": 52,
   "metadata": {},
   "outputs": [
    {
     "data": {
      "text/plain": [
       "8.23"
      ]
     },
     "execution_count": 52,
     "metadata": {},
     "output_type": "execute_result"
    }
   ],
   "source": [
    "# tres objetos \n",
    "a = 2\n",
    "b = 5.23\n",
    "c = True\n",
    "\n",
    "# Una expresion que genera un valor  \n",
    "a + b + c"
   ]
  },
  {
   "cell_type": "markdown",
   "metadata": {},
   "source": [
    "Es de notar que el objeto booleano `c` a sido **forzado** automaticamente por el interprete de Python a su equivalente numero, `1`. "
   ]
  },
  {
   "cell_type": "markdown",
   "metadata": {},
   "source": [
    "Ahora que tenemos Objetos, tenemos que especificar que Hacer con ellos."
   ]
  },
  {
   "cell_type": "code",
   "execution_count": 31,
   "metadata": {},
   "outputs": [
    {
     "name": "stdout",
     "output_type": "stream",
     "text": [
      "mio\n"
     ]
    }
   ],
   "source": [
    "cadena = 'mio'\n",
    "print (cadena)"
   ]
  },
  {
   "cell_type": "markdown",
   "metadata": {},
   "source": [
    "### b. Declaraciones / Sentencias\n",
    "En terminos simples, las sentencias son las cosas que escribimos para indicarle a Python lo que los programas deben hacer. \n",
    "Python es un lenguaje **procedimiental**, basado en sentencias."
   ]
  },
  {
   "cell_type": "markdown",
   "metadata": {},
   "source": [
    "#### b.1 Sentencia de asignacion ► para crear referencias\n",
    "Anteriomente se menciono, como crear objetos usando expresiones **literales**, sin embargo, si se desea utilizar esos objetos en una parte posterior dentro del nuestro script/programa, es necesario una forma de acceder a ellos, lo que llamaremos **referencia**. \n",
    "Una **referencia** es un nombre que refiere a la locacion en memoria del valor (object). Para crear tal referencia, se hace uso de una **sentencia de asigancion**. \n",
    "Con esto se ** vincula ** una ** variable ** (un nombre) que contiene una referencia al objeto. El nombre de referencia es a libre eleccion, pero debe ser algo significativo al objeto y que no sea una palabra reservada de Python."
   ]
  },
  {
   "cell_type": "code",
   "execution_count": null,
   "metadata": {
    "scrolled": true
   },
   "outputs": [],
   "source": [
    "help('keywords')"
   ]
  },
  {
   "cell_type": "code",
   "execution_count": 29,
   "metadata": {
    "collapsed": true
   },
   "outputs": [],
   "source": [
    "# una sentencia de asignacion\n",
    "track6 = 'internet of things' # ligamos el nombre de variabble track6 a la cadena"
   ]
  },
  {
   "cell_type": "code",
   "execution_count": null,
   "metadata": {
    "scrolled": true
   },
   "outputs": [],
   "source": [
    "# ahora la varibale/nombre track6\n",
    "track6"
   ]
  },
  {
   "cell_type": "code",
   "execution_count": null,
   "metadata": {},
   "outputs": [],
   "source": [
    "# y la refencia al espacio en memoria\n",
    "hex(id(track6) )"
   ]
  },
  {
   "cell_type": "markdown",
   "metadata": {},
   "source": [
    "#### Sobre ¨tipado¨ automatico\n",
    "**dynamic typing**. \n",
    "\n",
    "En `C` por ejemplo podriamos tener el sigueinte codigo:\n",
    "```\n",
    "/* C code */ \n",
    "int num, sum; // declaracion explicita \n",
    "num = 5; // asignacion de las variables \n",
    "sum = 10; \n",
    "sum = sum + num; //usando las variables\n",
    "```\n",
    "\n",
    "En `C`, antes de usar una variable se necesita especificar su tipo (en el ejemplo anterior `integer`). Esto se llama `tipado estático`. Se restringe el uso de la variable al especificar qué tipo de datos / valores se espera en la ejecución. Entonces, al compilar su programa `C`, su compilador verificará que todas las acciones sobre esa variable sean consistentes con lo que se especificó.\n",
    "\n",
    "En `Python`, lo anterior se escribe:"
   ]
  },
  {
   "cell_type": "code",
   "execution_count": 35,
   "metadata": {
    "collapsed": true
   },
   "outputs": [],
   "source": [
    "# Python code\n",
    "num = 5\n",
    "sum = 10\n",
    "sum = sum + num"
   ]
  },
  {
   "cell_type": "code",
   "execution_count": null,
   "metadata": {},
   "outputs": [],
   "source": [
    "print(sum)"
   ]
  },
  {
   "cell_type": "markdown",
   "metadata": {},
   "source": [
    "Como se puede ver, no es necesario especificar el \"tipo\" de la variables `num` y `sum`. Su tipo es determinado en  **runtime** (al momento de la ejecucion). "
   ]
  },
  {
   "cell_type": "code",
   "execution_count": 32,
   "metadata": {
    "collapsed": true
   },
   "outputs": [],
   "source": [
    "# luego el tipo de la variable suma puede ser re-ligado a un objeto float.\n",
    "num = 45.567"
   ]
  },
  {
   "cell_type": "markdown",
   "metadata": {},
   "source": [
    "Esto es llamado **dynamic typing**. "
   ]
  },
  {
   "cell_type": "markdown",
   "metadata": {},
   "source": [
    "#### b.2 Las sentencias `if/elif/else`  ► seleccionar acciones\n",
    "la sentencia mas familiar de todas. "
   ]
  },
  {
   "cell_type": "code",
   "execution_count": null,
   "metadata": {},
   "outputs": [],
   "source": [
    "a = 5\n",
    "b = 3\n",
    "if a >= b: \n",
    "    print(\"a es mayor que b\")\n",
    "else:\n",
    "    print(\"b es mayor que a\")"
   ]
  },
  {
   "cell_type": "markdown",
   "metadata": {},
   "source": [
    "#### b.3 La sentencia de Iteracion ► para repetir acciones sobre una secuencia"
   ]
  },
  {
   "cell_type": "code",
   "execution_count": null,
   "metadata": {},
   "outputs": [],
   "source": [
    "# creamos una lista\n",
    "ip_address = ['176.149.135.210', '176.149.135.211', '176.149.135.212', '176.149.135.213']\n",
    "\n",
    "for i in ip_address:\n",
    "    print(\"Trying to connect to {}\".format(i))"
   ]
  },
  {
   "cell_type": "markdown",
   "metadata": {},
   "source": [
    "#### b.4 La sentencia `def`  ► para definir una Funcion"
   ]
  },
  {
   "cell_type": "code",
   "execution_count": 46,
   "metadata": {
    "collapsed": true
   },
   "outputs": [],
   "source": [
    "def square(x):\n",
    "    return x**2"
   ]
  },
  {
   "cell_type": "markdown",
   "metadata": {},
   "source": [
    "#### b.5 La sentencia `call`  ► ejecutar una funcion"
   ]
  },
  {
   "cell_type": "code",
   "execution_count": null,
   "metadata": {},
   "outputs": [],
   "source": [
    "square(8)"
   ]
  },
  {
   "cell_type": "markdown",
   "metadata": {},
   "source": [
    "#### b.6 y muchos mas ..."
   ]
  },
  {
   "cell_type": "markdown",
   "metadata": {},
   "source": [
    "Se puede ver un listado completo de todas las sentencias: https://docs.python.org/3/reference/simple_stmts.html"
   ]
  },
  {
   "cell_type": "markdown",
   "metadata": {},
   "source": [
    "## III. En resumen\n",
    "\n",
    "en pocas palabras, en Python:\n",
    "* todo es un **objeto** (incluidas las funciones)\n",
    "* todo objeto tiene un **tipo**\n",
    "* se puede acceder a muchos tipos **pre-cargados**  (str, float, list, tuple, dict, ...)\n",
    "* se pueden combinar objetos para producir nuevos valores, usando **expresiones**\n",
    "* todo lo anterior son \"cosas\"\n",
    "* y para realizar acciones utiles con esas cosas, se usan las **sentencias**"
   ]
  }
 ],
 "metadata": {
  "kernelspec": {
   "display_name": "Python 2",
   "language": "python",
   "name": "python2"
  },
  "language_info": {
   "codemirror_mode": {
    "name": "ipython",
    "version": 2
   },
   "file_extension": ".py",
   "mimetype": "text/x-python",
   "name": "python",
   "nbconvert_exporter": "python",
   "pygments_lexer": "ipython2",
   "version": "2.7.13"
  }
 },
 "nbformat": 4,
 "nbformat_minor": 2
}
